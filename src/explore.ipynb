{
    "cells": [
        {
            "cell_type": "markdown",
            "metadata": {},
            "source": [
                "# Explore here"
            ]
        },
        {
            "cell_type": "code",
            "execution_count": 41,
            "metadata": {},
            "outputs": [],
            "source": [
                "# K-means Project\n",
                "import pandas as pd\n",
                "import matplotlib.pyplot as plt\n",
                "import seaborn as sns\n",
                "\n",
                "from sklearn.cluster import KMeans\n",
                "from sklearn.datasets import make_blobs\n",
                "from sklearn.model_selection import train_test_split"
            ]
        },
        {
            "cell_type": "code",
            "execution_count": 42,
            "metadata": {},
            "outputs": [
                {
                    "data": {
                        "text/html": [
                            "<div>\n",
                            "<style scoped>\n",
                            "    .dataframe tbody tr th:only-of-type {\n",
                            "        vertical-align: middle;\n",
                            "    }\n",
                            "\n",
                            "    .dataframe tbody tr th {\n",
                            "        vertical-align: top;\n",
                            "    }\n",
                            "\n",
                            "    .dataframe thead th {\n",
                            "        text-align: right;\n",
                            "    }\n",
                            "</style>\n",
                            "<table border=\"1\" class=\"dataframe\">\n",
                            "  <thead>\n",
                            "    <tr style=\"text-align: right;\">\n",
                            "      <th></th>\n",
                            "      <th>MedInc</th>\n",
                            "      <th>HouseAge</th>\n",
                            "      <th>AveRooms</th>\n",
                            "      <th>AveBedrms</th>\n",
                            "      <th>Population</th>\n",
                            "      <th>AveOccup</th>\n",
                            "      <th>Latitude</th>\n",
                            "      <th>Longitude</th>\n",
                            "      <th>MedHouseVal</th>\n",
                            "    </tr>\n",
                            "  </thead>\n",
                            "  <tbody>\n",
                            "    <tr>\n",
                            "      <th>0</th>\n",
                            "      <td>8.3252</td>\n",
                            "      <td>41.0</td>\n",
                            "      <td>6.984127</td>\n",
                            "      <td>1.023810</td>\n",
                            "      <td>322.0</td>\n",
                            "      <td>2.555556</td>\n",
                            "      <td>37.88</td>\n",
                            "      <td>-122.23</td>\n",
                            "      <td>4.526</td>\n",
                            "    </tr>\n",
                            "    <tr>\n",
                            "      <th>1</th>\n",
                            "      <td>8.3014</td>\n",
                            "      <td>21.0</td>\n",
                            "      <td>6.238137</td>\n",
                            "      <td>0.971880</td>\n",
                            "      <td>2401.0</td>\n",
                            "      <td>2.109842</td>\n",
                            "      <td>37.86</td>\n",
                            "      <td>-122.22</td>\n",
                            "      <td>3.585</td>\n",
                            "    </tr>\n",
                            "    <tr>\n",
                            "      <th>2</th>\n",
                            "      <td>7.2574</td>\n",
                            "      <td>52.0</td>\n",
                            "      <td>8.288136</td>\n",
                            "      <td>1.073446</td>\n",
                            "      <td>496.0</td>\n",
                            "      <td>2.802260</td>\n",
                            "      <td>37.85</td>\n",
                            "      <td>-122.24</td>\n",
                            "      <td>3.521</td>\n",
                            "    </tr>\n",
                            "    <tr>\n",
                            "      <th>3</th>\n",
                            "      <td>5.6431</td>\n",
                            "      <td>52.0</td>\n",
                            "      <td>5.817352</td>\n",
                            "      <td>1.073059</td>\n",
                            "      <td>558.0</td>\n",
                            "      <td>2.547945</td>\n",
                            "      <td>37.85</td>\n",
                            "      <td>-122.25</td>\n",
                            "      <td>3.413</td>\n",
                            "    </tr>\n",
                            "    <tr>\n",
                            "      <th>4</th>\n",
                            "      <td>3.8462</td>\n",
                            "      <td>52.0</td>\n",
                            "      <td>6.281853</td>\n",
                            "      <td>1.081081</td>\n",
                            "      <td>565.0</td>\n",
                            "      <td>2.181467</td>\n",
                            "      <td>37.85</td>\n",
                            "      <td>-122.25</td>\n",
                            "      <td>3.422</td>\n",
                            "    </tr>\n",
                            "    <tr>\n",
                            "      <th>5</th>\n",
                            "      <td>4.0368</td>\n",
                            "      <td>52.0</td>\n",
                            "      <td>4.761658</td>\n",
                            "      <td>1.103627</td>\n",
                            "      <td>413.0</td>\n",
                            "      <td>2.139896</td>\n",
                            "      <td>37.85</td>\n",
                            "      <td>-122.25</td>\n",
                            "      <td>2.697</td>\n",
                            "    </tr>\n",
                            "    <tr>\n",
                            "      <th>6</th>\n",
                            "      <td>3.6591</td>\n",
                            "      <td>52.0</td>\n",
                            "      <td>4.931907</td>\n",
                            "      <td>0.951362</td>\n",
                            "      <td>1094.0</td>\n",
                            "      <td>2.128405</td>\n",
                            "      <td>37.84</td>\n",
                            "      <td>-122.25</td>\n",
                            "      <td>2.992</td>\n",
                            "    </tr>\n",
                            "    <tr>\n",
                            "      <th>7</th>\n",
                            "      <td>3.1200</td>\n",
                            "      <td>52.0</td>\n",
                            "      <td>4.797527</td>\n",
                            "      <td>1.061824</td>\n",
                            "      <td>1157.0</td>\n",
                            "      <td>1.788253</td>\n",
                            "      <td>37.84</td>\n",
                            "      <td>-122.25</td>\n",
                            "      <td>2.414</td>\n",
                            "    </tr>\n",
                            "    <tr>\n",
                            "      <th>8</th>\n",
                            "      <td>2.0804</td>\n",
                            "      <td>42.0</td>\n",
                            "      <td>4.294118</td>\n",
                            "      <td>1.117647</td>\n",
                            "      <td>1206.0</td>\n",
                            "      <td>2.026891</td>\n",
                            "      <td>37.84</td>\n",
                            "      <td>-122.26</td>\n",
                            "      <td>2.267</td>\n",
                            "    </tr>\n",
                            "    <tr>\n",
                            "      <th>9</th>\n",
                            "      <td>3.6912</td>\n",
                            "      <td>52.0</td>\n",
                            "      <td>4.970588</td>\n",
                            "      <td>0.990196</td>\n",
                            "      <td>1551.0</td>\n",
                            "      <td>2.172269</td>\n",
                            "      <td>37.84</td>\n",
                            "      <td>-122.25</td>\n",
                            "      <td>2.611</td>\n",
                            "    </tr>\n",
                            "  </tbody>\n",
                            "</table>\n",
                            "</div>"
                        ],
                        "text/plain": [
                            "   MedInc  HouseAge  AveRooms  AveBedrms  Population  AveOccup  Latitude  \\\n",
                            "0  8.3252      41.0  6.984127   1.023810       322.0  2.555556     37.88   \n",
                            "1  8.3014      21.0  6.238137   0.971880      2401.0  2.109842     37.86   \n",
                            "2  7.2574      52.0  8.288136   1.073446       496.0  2.802260     37.85   \n",
                            "3  5.6431      52.0  5.817352   1.073059       558.0  2.547945     37.85   \n",
                            "4  3.8462      52.0  6.281853   1.081081       565.0  2.181467     37.85   \n",
                            "5  4.0368      52.0  4.761658   1.103627       413.0  2.139896     37.85   \n",
                            "6  3.6591      52.0  4.931907   0.951362      1094.0  2.128405     37.84   \n",
                            "7  3.1200      52.0  4.797527   1.061824      1157.0  1.788253     37.84   \n",
                            "8  2.0804      42.0  4.294118   1.117647      1206.0  2.026891     37.84   \n",
                            "9  3.6912      52.0  4.970588   0.990196      1551.0  2.172269     37.84   \n",
                            "\n",
                            "   Longitude  MedHouseVal  \n",
                            "0    -122.23        4.526  \n",
                            "1    -122.22        3.585  \n",
                            "2    -122.24        3.521  \n",
                            "3    -122.25        3.413  \n",
                            "4    -122.25        3.422  \n",
                            "5    -122.25        2.697  \n",
                            "6    -122.25        2.992  \n",
                            "7    -122.25        2.414  \n",
                            "8    -122.26        2.267  \n",
                            "9    -122.25        2.611  "
                        ]
                    },
                    "execution_count": 42,
                    "metadata": {},
                    "output_type": "execute_result"
                }
            ],
            "source": [
                "# Load the dataset \n",
                "url = \"https://raw.githubusercontent.com/4GeeksAcademy/k-means-project-tutorial/main/housing.csv\"\n",
                "df = pd.read_csv(url)\n",
                "df.head(10)"
            ]
        },
        {
            "cell_type": "code",
            "execution_count": 43,
            "metadata": {},
            "outputs": [
                {
                    "name": "stdout",
                    "output_type": "stream",
                    "text": [
                        "<class 'pandas.core.frame.DataFrame'>\n",
                        "RangeIndex: 20640 entries, 0 to 20639\n",
                        "Data columns (total 9 columns):\n",
                        " #   Column       Non-Null Count  Dtype  \n",
                        "---  ------       --------------  -----  \n",
                        " 0   MedInc       20640 non-null  float64\n",
                        " 1   HouseAge     20640 non-null  float64\n",
                        " 2   AveRooms     20640 non-null  float64\n",
                        " 3   AveBedrms    20640 non-null  float64\n",
                        " 4   Population   20640 non-null  float64\n",
                        " 5   AveOccup     20640 non-null  float64\n",
                        " 6   Latitude     20640 non-null  float64\n",
                        " 7   Longitude    20640 non-null  float64\n",
                        " 8   MedHouseVal  20640 non-null  float64\n",
                        "dtypes: float64(9)\n",
                        "memory usage: 1.4 MB\n"
                    ]
                }
            ],
            "source": [
                "df.info()"
            ]
        },
        {
            "cell_type": "code",
            "execution_count": 44,
            "metadata": {},
            "outputs": [],
            "source": [
                "# Split the data into x and y \n",
                "X = df.drop('MedHouseVal', axis=1) \n",
                "y = df['MedHouseVal'] "
            ]
        },
        {
            "cell_type": "code",
            "execution_count": 45,
            "metadata": {},
            "outputs": [],
            "source": [
                "# Selecting numeric columns for clustering\n",
                "cluster_X = X[['HouseAge', 'AveRooms', 'AveBedrms']]  # Replace with your relevant columns\n",
                "\n"
            ]
        },
        {
            "cell_type": "code",
            "execution_count": 46,
            "metadata": {},
            "outputs": [],
            "source": [
                "# Initialize the KMeans model with 6 clusters\n",
                "kmeans = KMeans(n_clusters=6, random_state=42)"
            ]
        },
        {
            "cell_type": "code",
            "execution_count": 47,
            "metadata": {},
            "outputs": [],
            "source": [
                "# Fit the model to the data\n",
                "df['cluster_X'] = kmeans.fit_predict(X)"
            ]
        },
        {
            "cell_type": "code",
            "execution_count": 48,
            "metadata": {},
            "outputs": [
                {
                    "name": "stdout",
                    "output_type": "stream",
                    "text": [
                        "cluster_X\n",
                        "0    8965\n",
                        "2    7729\n",
                        "1    2949\n",
                        "5     816\n",
                        "3     179\n",
                        "4       2\n",
                        "Name: count, dtype: int64\n"
                    ]
                },
                {
                    "ename": "",
                    "evalue": "",
                    "output_type": "error",
                    "traceback": [
                        "\u001b[1;31mThe Kernel crashed while executing code in the current cell or a previous cell. \n",
                        "\u001b[1;31mPlease review the code in the cell(s) to identify a possible cause of the failure. \n",
                        "\u001b[1;31mClick <a href='https://aka.ms/vscodeJupyterKernelCrash'>here</a> for more info. \n",
                        "\u001b[1;31mView Jupyter <a href='command:jupyter.viewOutput'>log</a> for further details."
                    ]
                }
            ],
            "source": [
                "print(df['cluster_X'].value_counts())  # Show how many houses are in each cluster"
            ]
        },
        {
            "cell_type": "code",
            "execution_count": null,
            "metadata": {},
            "outputs": [],
            "source": [
                "#plt.figure(figsize=(10, 6))\n",
                "\n",
                "# Scatter plot with color based on clusters\n",
                "#sns.scatterplot(x='MedInc', y='MedHouseVal', hue='MedInc', palette='Set1', data=df, s=100, alpha=0.7)\n",
                "\n",
                "#plt.title('House Clusters Based on Price and Square Footage')\n",
                "#plt.xlabel('MedInc')\n",
                "#plt.ylabel('MedHouseVal')\n",
                "#plt.legend(title='Cluster', bbox_to_anchor=(1.05, 1), loc='upper left')\n",
                "#plt.show()\n"
            ]
        },
        {
            "cell_type": "code",
            "execution_count": null,
            "metadata": {},
            "outputs": [],
            "source": [
                "# Predict clusters for the test set\n",
                "predicted_clusters = kmeans.predict(X_test)"
            ]
        },
        {
            "cell_type": "code",
            "execution_count": null,
            "metadata": {},
            "outputs": [],
            "source": [
                "# Assuming X_test is a DataFrame and you want to add the predicted clusters to it\n",
                "X_test['predicted_cluster'] = predicted_clusters"
            ]
        }
    ],
    "metadata": {
        "kernelspec": {
            "display_name": "Python 3",
            "language": "python",
            "name": "python3"
        },
        "language_info": {
            "codemirror_mode": {
                "name": "ipython",
                "version": 3
            },
            "file_extension": ".py",
            "mimetype": "text/x-python",
            "name": "python",
            "nbconvert_exporter": "python",
            "pygments_lexer": "ipython3",
            "version": "3.10.12"
        },
        "orig_nbformat": 4
    },
    "nbformat": 4,
    "nbformat_minor": 2
}
